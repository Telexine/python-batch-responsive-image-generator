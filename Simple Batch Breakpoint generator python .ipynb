{
 "cells": [
  {
   "cell_type": "markdown",
   "metadata": {},
   "source": [
    "# Simple Batch Breakpoint generator python"
   ]
  },
  {
   "cell_type": "markdown",
   "metadata": {},
   "source": [
    "This notebook script will easy generate responsive image for Frontend website, maintain aspect ratio, no stretch.\n",
    "Normally I have to generate it via https://www.responsivebreakpoints.com/ which quite slow for file by file.\n",
    "So I create some Vue component with fixed Breakpoint size  [200,763,1132,1400]  in other site production (not in this project) feel free to modify the code "
   ]
  },
  {
   "cell_type": "markdown",
   "metadata": {},
   "source": [
    "## what it do ?"
   ]
  },
  {
   "cell_type": "markdown",
   "metadata": {},
   "source": [
    "Specify the folder path that have all the image (right now is all .jpg) and breakpoint width and run script and done.\n"
   ]
  },
  {
   "cell_type": "markdown",
   "metadata": {},
   "source": [
    "## Import Library"
   ]
  },
  {
   "cell_type": "code",
   "execution_count": 18,
   "metadata": {},
   "outputs": [],
   "source": [
    "import os, sys\n",
    "from PIL import Image\n",
    "import math \n",
    "import glob "
   ]
  },
  {
   "cell_type": "markdown",
   "metadata": {},
   "source": [
    "## Function"
   ]
  },
  {
   "cell_type": "code",
   "execution_count": 25,
   "metadata": {},
   "outputs": [],
   "source": [
    "def resize_maintain_aspect_by_width(PIL_Image,new_width):\n",
    "    '''\n",
    "    This function get image and resize by width (maintain aspect ratio) without strech\n",
    "    '''\n",
    "    width, height = PIL_Image.size\n",
    "    # if new width is greater than original width, return the image\n",
    "    if new_width > width:\n",
    "        return PIL_Image\n",
    "    \n",
    "    new_height = math.floor(new_width * height / width )\n",
    "    return PIL_Image.resize((new_width, new_height), Image.ANTIALIAS)"
   ]
  },
  {
   "cell_type": "code",
   "execution_count": 26,
   "metadata": {},
   "outputs": [],
   "source": [
    "def savebreakpoint(filename,PIL_Image,breakpoint):\n",
    "    '''\n",
    "    This function save PIL image by add postfix from specify breakpoint\n",
    "    '''\n",
    "    path = filename.rsplit('.', 1)\n",
    "    path[0] = path[0]+'_'+str(breakpoint)\n",
    "    PIL_Image.save(r'.'.join(path))"
   ]
  },
  {
   "cell_type": "markdown",
   "metadata": {},
   "source": [
    "## Edit here"
   ]
  },
  {
   "cell_type": "code",
   "execution_count": 27,
   "metadata": {},
   "outputs": [],
   "source": [
    "# set breakpoints width\n",
    "breakpoints = [200,763,1132,1400]\n",
    "# set the folder path\n",
    "files = glob.glob('./testbatch/**/*.jpg',recursive = True) "
   ]
  },
  {
   "cell_type": "markdown",
   "metadata": {},
   "source": [
    "## Run"
   ]
  },
  {
   "cell_type": "code",
   "execution_count": 28,
   "metadata": {},
   "outputs": [],
   "source": [
    "for file in files:\n",
    "    im = Image.open(file) \n",
    "    for breakpoint in breakpoints:\n",
    "        tmp = resize_maintain_aspect_by_width(im,breakpoint)\n",
    "        savebreakpoint(file,tmp,breakpoint) "
   ]
  },
  {
   "cell_type": "markdown",
   "metadata": {},
   "source": [
    "### Output: Sample.jpg to Sample_200.jpg, Sample_763.jpg, Sample_1132.jpg, Sample_1400.jpg"
   ]
  }
 ],
 "metadata": {
  "kernelspec": {
   "display_name": "Python 3",
   "language": "python",
   "name": "python3"
  },
  "language_info": {
   "codemirror_mode": {
    "name": "ipython",
    "version": 3
   },
   "file_extension": ".py",
   "mimetype": "text/x-python",
   "name": "python",
   "nbconvert_exporter": "python",
   "pygments_lexer": "ipython3",
   "version": "3.8.3"
  }
 },
 "nbformat": 4,
 "nbformat_minor": 4
}
