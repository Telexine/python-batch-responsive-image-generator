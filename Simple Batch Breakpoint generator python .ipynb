{
 "cells": [
  {
   "cell_type": "markdown",
   "metadata": {},
   "source": [
    "# Simple Batch Breakpoint generator python"
   ]
  },
  {
   "cell_type": "markdown",
   "metadata": {},
   "source": [
    "This jupyter notebook script will generate responsive image for lazy-srcset website, maintain aspect ratio, no stretch. Normally I have to generate it via https://www.responsivebreakpoints.com/ or photoscape which a bit slow.\n",
    "\n",
    "## Story and explaination\n",
    "\n",
    "I've a created a Vue very-lazy and simple-to-use src set component. the property are similar to  and I don't need to worry about other property and that component included fixed Breakpoint size [200,763,1132,1400] in other website in production (not in this project) It's work perfectly with this image generator."
   ]
  },
  {
   "cell_type": "markdown",
   "metadata": {},
   "source": [
    "## How to use?"
   ]
  },
  {
   "cell_type": "markdown",
   "metadata": {},
   "source": [
    "Specify the folder path that have all the image (recursive) and breakpoint width in list and run the script."
   ]
  },
  {
   "cell_type": "markdown",
   "metadata": {},
   "source": [
    "## Import Library"
   ]
  },
  {
   "cell_type": "code",
   "execution_count": 10,
   "metadata": {},
   "outputs": [],
   "source": [
    "import os, sys\n",
    "from PIL import Image\n",
    "import math \n",
    "import glob "
   ]
  },
  {
   "cell_type": "markdown",
   "metadata": {},
   "source": [
    "## Defined Function"
   ]
  },
  {
   "cell_type": "code",
   "execution_count": 11,
   "metadata": {},
   "outputs": [],
   "source": [
    "def resize_maintain_aspect_by_width(PIL_Image,new_width):\n",
    "    '''\n",
    "    This function get image and resize by width (maintain aspect ratio) without strech\n",
    "    '''\n",
    "    width, height = PIL_Image.size\n",
    "    # if new width is greater than original width, return the image (no strech)\n",
    "    if new_width > width:\n",
    "        return PIL_Image\n",
    "    \n",
    "    new_height = math.floor(new_width * height / width )\n",
    "    return PIL_Image.resize((new_width, new_height), Image.ANTIALIAS)"
   ]
  },
  {
   "cell_type": "code",
   "execution_count": 12,
   "metadata": {},
   "outputs": [],
   "source": [
    "def savebreakpoint(filename,PIL_Image,breakpoint,formatter=\"%s_%s\"):\n",
    "    '''\n",
    "    This function save PIL image by add postfix from specify breakpoint\n",
    "    '''\n",
    "    path = filename.rsplit('.', 1)\n",
    "    path[0] = formatter % (path[0] , breakpoint)\n",
    "    PIL_Image.save(r'.'.join(path))"
   ]
  },
  {
   "cell_type": "markdown",
   "metadata": {},
   "source": [
    "## Config"
   ]
  },
  {
   "cell_type": "code",
   "execution_count": 15,
   "metadata": {},
   "outputs": [],
   "source": [
    "# set breakpoints width\n",
    "breakpoints = [200,763,1132,1400]\n",
    "\n",
    "# set the folder path, Can set to any folder you want.\n",
    "files = glob.glob('./testbatch/**/*.jpg',recursive = True) \n",
    "\n",
    "# format {Filename}_{breakpoint}.jpg eg. car_200.jpg\n",
    "formatter=\"%s_%s\"\n",
    "\n",
    "# format example 2 {Filename}_w{breakpoint}.jpg eg. car_w200.jpg\n",
    "#formatter=\"%s_w%s\""
   ]
  },
  {
   "cell_type": "markdown",
   "metadata": {},
   "source": [
    "## Run"
   ]
  },
  {
   "cell_type": "code",
   "execution_count": 28,
   "metadata": {},
   "outputs": [],
   "source": [
    "for file in files:\n",
    "    im = Image.open(file) \n",
    "    for breakpoint in breakpoints:\n",
    "        tmp = resize_maintain_aspect_by_width(im,breakpoint)\n",
    "        savebreakpoint(file,tmp,breakpoint,formatter) "
   ]
  },
  {
   "cell_type": "markdown",
   "metadata": {},
   "source": [
    "### Output: Sample.jpg to Sample_200.jpg, Sample_763.jpg, Sample_1132.jpg, Sample_1400.jpg"
   ]
  }
 ],
 "metadata": {
  "kernelspec": {
   "display_name": "Python 3",
   "language": "python",
   "name": "python3"
  },
  "language_info": {
   "codemirror_mode": {
    "name": "ipython",
    "version": 3
   },
   "file_extension": ".py",
   "mimetype": "text/x-python",
   "name": "python",
   "nbconvert_exporter": "python",
   "pygments_lexer": "ipython3",
   "version": "3.7.4"
  }
 },
 "nbformat": 4,
 "nbformat_minor": 4
}
